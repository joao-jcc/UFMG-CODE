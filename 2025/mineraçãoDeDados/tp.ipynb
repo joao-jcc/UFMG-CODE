{
 "cells": [
  {
   "cell_type": "code",
   "execution_count": 1,
   "outputs": [],
   "source": [
    "import pandas as pd\n"
   ],
   "metadata": {
    "collapsed": false,
    "ExecuteTime": {
     "end_time": "2025-05-02T17:24:45.295227Z",
     "start_time": "2025-05-02T17:24:44.920748Z"
    }
   },
   "id": "8d5fc936856785e3"
  },
  {
   "cell_type": "code",
   "execution_count": 2,
   "outputs": [],
   "source": [
    "df = pd.read_excel(\"PIBdosMunicipios_basededados2010_2021.xlsx\")"
   ],
   "metadata": {
    "collapsed": false,
    "ExecuteTime": {
     "end_time": "2025-05-02T17:25:46.506979Z",
     "start_time": "2025-05-02T17:25:32.550893Z"
    }
   },
   "id": "8b990656950e8d82"
  },
  {
   "cell_type": "code",
   "execution_count": 3,
   "outputs": [
    {
     "data": {
      "text/plain": "Index(['Ano', 'Código da Grande Região', 'Nome da Grande Região',\n       'Código da Unidade da Federação', 'Sigla da Unidade da Federação',\n       'Nome da Unidade da Federação', 'Código do Município',\n       'Nome do Município', 'Região Metropolitana', 'Código da Mesorregião',\n       'Nome da Mesorregião', 'Código da Microrregião', 'Nome da Microrregião',\n       'Código da Região Geográfica Imediata',\n       'Nome da Região Geográfica Imediata',\n       'Município da Região Geográfica Imediata',\n       'Código da Região Geográfica Intermediária',\n       'Nome da Região Geográfica Intermediária',\n       'Município da Região Geográfica Intermediária',\n       'Código Concentração Urbana', 'Nome Concentração Urbana',\n       'Tipo Concentração Urbana', 'Código Arranjo Populacional',\n       'Nome Arranjo Populacional', 'Hierarquia Urbana',\n       'Hierarquia Urbana (principais categorias)', 'Código da Região Rural',\n       'Nome da Região Rural',\n       'Região rural (segundo classificação do núcleo)', 'Amazônia Legal',\n       'Semiárido', 'Cidade-Região de São Paulo',\n       'Valor adicionado bruto da Agropecuária, \\na preços correntes\\n(R$ 1.000)',\n       'Valor adicionado bruto da Indústria,\\na preços correntes\\n(R$ 1.000)',\n       'Valor adicionado bruto dos Serviços,\\na preços correntes \\n- exceto Administração, defesa, educação e saúde públicas e seguridade social\\n(R$ 1.000)',\n       'Valor adicionado bruto da Administração, defesa, educação e saúde públicas e seguridade social, \\na preços correntes\\n(R$ 1.000)',\n       'Valor adicionado bruto total, \\na preços correntes\\n(R$ 1.000)',\n       'Impostos, líquidos de subsídios, sobre produtos, \\na preços correntes\\n(R$ 1.000)',\n       'Produto Interno Bruto, \\na preços correntes\\n(R$ 1.000)',\n       'Produto Interno Bruto per capita, \\na preços correntes\\n(R$ 1,00)',\n       'Atividade com maior valor adicionado bruto',\n       'Atividade com segundo maior valor adicionado bruto',\n       'Atividade com terceiro maior valor adicionado bruto'],\n      dtype='object')"
     },
     "execution_count": 3,
     "metadata": {},
     "output_type": "execute_result"
    }
   ],
   "source": [
    "df.columns"
   ],
   "metadata": {
    "collapsed": false,
    "ExecuteTime": {
     "end_time": "2025-05-02T17:26:18.752817Z",
     "start_time": "2025-05-02T17:26:18.747852Z"
    }
   },
   "id": "db0fe449ff78abf4"
  },
  {
   "cell_type": "code",
   "execution_count": 4,
   "outputs": [
    {
     "data": {
      "text/plain": "0        2010\n1        2010\n2        2010\n3        2010\n4        2010\n         ... \n66820    2021\n66821    2021\n66822    2021\n66823    2021\n66824    2021\nName: Ano, Length: 66825, dtype: int64"
     },
     "execution_count": 4,
     "metadata": {},
     "output_type": "execute_result"
    }
   ],
   "source": [
    "df['Ano']"
   ],
   "metadata": {
    "collapsed": false,
    "ExecuteTime": {
     "end_time": "2025-05-02T17:27:37.304278Z",
     "start_time": "2025-05-02T17:27:37.299494Z"
    }
   },
   "id": "8238b4954e802760"
  },
  {
   "cell_type": "code",
   "execution_count": 6,
   "outputs": [],
   "source": [
    "df = df[df['Ano'] == 2021]"
   ],
   "metadata": {
    "collapsed": false,
    "ExecuteTime": {
     "end_time": "2025-05-02T17:27:52.753664Z",
     "start_time": "2025-05-02T17:27:52.746839Z"
    }
   },
   "id": "f65790cc3e239aed"
  },
  {
   "cell_type": "code",
   "execution_count": 8,
   "outputs": [],
   "source": [
    "df = df[['Nome da Unidade da Federação', 'Nome do Município', 'Produto Interno Bruto, \\na preços correntes\\n(R$ 1.000)', 'Produto Interno Bruto per capita, \\na preços correntes\\n(R$ 1,00)']]"
   ],
   "metadata": {
    "collapsed": false,
    "ExecuteTime": {
     "end_time": "2025-05-02T17:29:40.527217Z",
     "start_time": "2025-05-02T17:29:40.522901Z"
    }
   },
   "id": "abff094d36ab247c"
  },
  {
   "cell_type": "code",
   "execution_count": 9,
   "outputs": [
    {
     "data": {
      "text/plain": "Index(['Nome da Unidade da Federação', 'Nome do Município',\n       'Produto Interno Bruto, \\na preços correntes\\n(R$ 1.000)',\n       'Produto Interno Bruto per capita, \\na preços correntes\\n(R$ 1,00)'],\n      dtype='object')"
     },
     "execution_count": 9,
     "metadata": {},
     "output_type": "execute_result"
    }
   ],
   "source": [
    "df.columns"
   ],
   "metadata": {
    "collapsed": false,
    "ExecuteTime": {
     "end_time": "2025-05-02T17:29:44.220263Z",
     "start_time": "2025-05-02T17:29:44.213638Z"
    }
   },
   "id": "ee5614afe7cbbf75"
  },
  {
   "cell_type": "code",
   "execution_count": 10,
   "outputs": [
    {
     "data": {
      "text/plain": "(5570, 4)"
     },
     "execution_count": 10,
     "metadata": {},
     "output_type": "execute_result"
    }
   ],
   "source": [
    "df.shape"
   ],
   "metadata": {
    "collapsed": false,
    "ExecuteTime": {
     "end_time": "2025-05-02T17:29:49.778015Z",
     "start_time": "2025-05-02T17:29:49.774170Z"
    }
   },
   "id": "8fd18986818abcd0"
  },
  {
   "cell_type": "code",
   "execution_count": 11,
   "outputs": [],
   "source": [
    "df.to_csv('Municipio_PIB.csv', index=False)"
   ],
   "metadata": {
    "collapsed": false,
    "ExecuteTime": {
     "end_time": "2025-05-02T17:31:02.030573Z",
     "start_time": "2025-05-02T17:31:02.010043Z"
    }
   },
   "id": "5a2d3b4a78ae9f7"
  },
  {
   "cell_type": "code",
   "execution_count": null,
   "outputs": [],
   "source": [],
   "metadata": {
    "collapsed": false
   },
   "id": "6c62e7f2bc36be04"
  }
 ],
 "metadata": {
  "kernelspec": {
   "display_name": "Python 3",
   "language": "python",
   "name": "python3"
  },
  "language_info": {
   "codemirror_mode": {
    "name": "ipython",
    "version": 2
   },
   "file_extension": ".py",
   "mimetype": "text/x-python",
   "name": "python",
   "nbconvert_exporter": "python",
   "pygments_lexer": "ipython2",
   "version": "2.7.6"
  }
 },
 "nbformat": 4,
 "nbformat_minor": 5
}
