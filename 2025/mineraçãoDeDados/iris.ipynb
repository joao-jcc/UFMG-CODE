{
 "cells": [
  {
   "cell_type": "code",
   "execution_count": 1,
   "outputs": [],
   "source": [
    "import numpy as np\n",
    "import pandas as pd\n",
    "import matplotlib.pyplot as plt\n",
    "import seaborn"
   ],
   "metadata": {
    "collapsed": false,
    "ExecuteTime": {
     "end_time": "2025-03-16T12:29:23.128501Z",
     "start_time": "2025-03-16T12:29:23.126687Z"
    }
   },
   "id": "e636b70b23810db5"
  },
  {
   "cell_type": "code",
   "execution_count": 2,
   "outputs": [],
   "source": [
    "data = pd.read_csv(\"bookDatasets/iris.txt\")"
   ],
   "metadata": {
    "collapsed": false,
    "ExecuteTime": {
     "end_time": "2025-03-16T12:29:23.132835Z",
     "start_time": "2025-03-16T12:29:23.129353Z"
    }
   },
   "id": "4fea68cd7af39252"
  },
  {
   "cell_type": "code",
   "execution_count": 3,
   "outputs": [
    {
     "name": "stdout",
     "output_type": "stream",
     "text": [
      "Dimensões: (149, 5)\n"
     ]
    },
    {
     "data": {
      "text/plain": "   5.9    3  4.2  1.5  Iris-versicolor\n0  6.9  3.1  4.9  1.5  Iris-versicolor\n1  6.6  2.9  4.6  1.3  Iris-versicolor\n2  4.6  3.2  1.4  0.2      Iris-setosa\n3  6.0  2.2  4.0  1.0  Iris-versicolor\n4  4.7  3.2  1.3  0.2      Iris-setosa",
      "text/html": "<div>\n<style scoped>\n    .dataframe tbody tr th:only-of-type {\n        vertical-align: middle;\n    }\n\n    .dataframe tbody tr th {\n        vertical-align: top;\n    }\n\n    .dataframe thead th {\n        text-align: right;\n    }\n</style>\n<table border=\"1\" class=\"dataframe\">\n  <thead>\n    <tr style=\"text-align: right;\">\n      <th></th>\n      <th>5.9</th>\n      <th>3</th>\n      <th>4.2</th>\n      <th>1.5</th>\n      <th>Iris-versicolor</th>\n    </tr>\n  </thead>\n  <tbody>\n    <tr>\n      <th>0</th>\n      <td>6.9</td>\n      <td>3.1</td>\n      <td>4.9</td>\n      <td>1.5</td>\n      <td>Iris-versicolor</td>\n    </tr>\n    <tr>\n      <th>1</th>\n      <td>6.6</td>\n      <td>2.9</td>\n      <td>4.6</td>\n      <td>1.3</td>\n      <td>Iris-versicolor</td>\n    </tr>\n    <tr>\n      <th>2</th>\n      <td>4.6</td>\n      <td>3.2</td>\n      <td>1.4</td>\n      <td>0.2</td>\n      <td>Iris-setosa</td>\n    </tr>\n    <tr>\n      <th>3</th>\n      <td>6.0</td>\n      <td>2.2</td>\n      <td>4.0</td>\n      <td>1.0</td>\n      <td>Iris-versicolor</td>\n    </tr>\n    <tr>\n      <th>4</th>\n      <td>4.7</td>\n      <td>3.2</td>\n      <td>1.3</td>\n      <td>0.2</td>\n      <td>Iris-setosa</td>\n    </tr>\n  </tbody>\n</table>\n</div>"
     },
     "execution_count": 3,
     "metadata": {},
     "output_type": "execute_result"
    }
   ],
   "source": [
    "print(f\"Dimensões: {data.shape}\")\n",
    "data.head(5)"
   ],
   "metadata": {
    "collapsed": false,
    "ExecuteTime": {
     "end_time": "2025-03-16T12:29:23.141831Z",
     "start_time": "2025-03-16T12:29:23.135835Z"
    }
   },
   "id": "95ec2e09ab036370"
  },
  {
   "cell_type": "code",
   "execution_count": 4,
   "outputs": [],
   "source": [
    "X = data.iloc[:, :-1].to_numpy()\n",
    "Y = data.iloc[:, -1].to_numpy()"
   ],
   "metadata": {
    "collapsed": false,
    "ExecuteTime": {
     "end_time": "2025-03-16T12:29:23.144446Z",
     "start_time": "2025-03-16T12:29:23.142813Z"
    }
   },
   "id": "e42cc6f674f09fc4"
  },
  {
   "cell_type": "code",
   "execution_count": 5,
   "outputs": [
    {
     "data": {
      "text/plain": "array([5.84295302, 3.05436242, 3.7557047 , 1.1966443 ])"
     },
     "execution_count": 5,
     "metadata": {},
     "output_type": "execute_result"
    }
   ],
   "source": [
    "# média dos dados\n",
    "xmean = np.mean(X, axis=0)\n",
    "xmean"
   ],
   "metadata": {
    "collapsed": false,
    "ExecuteTime": {
     "end_time": "2025-03-16T12:29:23.148274Z",
     "start_time": "2025-03-16T12:29:23.145659Z"
    }
   },
   "id": "9c257f2ded947fea"
  },
  {
   "cell_type": "code",
   "execution_count": 6,
   "outputs": [
    {
     "data": {
      "text/plain": "0.8736561416152568"
     },
     "execution_count": 6,
     "metadata": {},
     "output_type": "execute_result"
    }
   ],
   "source": [
    "X_01 = X[:, [0, 1]]\n",
    "xmean01 = np.mean(X_01, axis=0)\n",
    "# variância\n",
    "var = (np.sum(X_01**2) / X_01.shape[0]) - np.sum(xmean01**2)\n",
    "var"
   ],
   "metadata": {
    "collapsed": false,
    "ExecuteTime": {
     "end_time": "2025-03-16T12:29:23.170909Z",
     "start_time": "2025-03-16T12:29:23.149465Z"
    }
   },
   "id": "18fd63cc221de90b"
  },
  {
   "cell_type": "code",
   "execution_count": 7,
   "outputs": [],
   "source": [
    "# Calcula variância da matriz flattering para um vetor m*n\n",
    "# np.var(X) "
   ],
   "metadata": {
    "collapsed": false,
    "ExecuteTime": {
     "end_time": "2025-03-16T12:29:23.171116Z",
     "start_time": "2025-03-16T12:29:23.151926Z"
    }
   },
   "id": "2ee90b99f475972a"
  },
  {
   "cell_type": "code",
   "execution_count": 8,
   "outputs": [],
   "source": [
    "seaborn.set_style('darkgrid')"
   ],
   "metadata": {
    "collapsed": false,
    "ExecuteTime": {
     "end_time": "2025-03-16T12:29:23.171532Z",
     "start_time": "2025-03-16T12:29:23.154271Z"
    }
   },
   "id": "3a210c611a46245b"
  },
  {
   "cell_type": "code",
   "execution_count": 9,
   "outputs": [
    {
     "data": {
      "text/plain": "<Figure size 640x480 with 1 Axes>",
      "image/png": "[encoded data removed]"
     },
     "metadata": {},
     "output_type": "display_data"
    }
   ],
   "source": [
    "att0 = X[:, 0]\n",
    "plt.title('Distribuição do atributo 0')\n",
    "plt.hist(att0)\n",
    "plt.show()"
   ],
   "metadata": {
    "collapsed": false,
    "ExecuteTime": {
     "end_time": "2025-03-16T12:29:23.268491Z",
     "start_time": "2025-03-16T12:29:23.158624Z"
    }
   },
   "id": "735df64de1d36a7c"
  },
  {
   "cell_type": "code",
   "execution_count": 10,
   "outputs": [],
   "source": [
    "# Qual a distribuição de probabilidades da variável aleatória att0?\n",
    "\n",
    "def fda(att):\n",
    "    min_v, max_v = min(att), max(att)\n",
    "    \n",
    "    x_values = np.linspace(min_v, max_v, 100)\n",
    "    y_values = [np.sum(att < value) / len(att) for value in x_values]\n",
    "    \n",
    "    return x_values, y_values"
   ],
   "metadata": {
    "collapsed": false,
    "ExecuteTime": {
     "end_time": "2025-03-16T12:29:23.270394Z",
     "start_time": "2025-03-16T12:29:23.268709Z"
    }
   },
   "id": "2996ef2cb301d8a6"
  },
  {
   "cell_type": "code",
   "execution_count": 13,
   "outputs": [
    {
     "data": {
      "text/plain": "<Figure size 640x480 with 1 Axes>",
      "image/png": "[encoded data removed]"
     },
     "metadata": {},
     "output_type": "display_data"
    }
   ],
   "source": [
    "xacc, yacc = fda(att0)\n",
    "\n",
    "plt.title('Função de Distribuição Acumulada do Atributo 0')\n",
    "plt.plot(xacc, yacc)\n",
    "plt.show()"
   ],
   "metadata": {
    "collapsed": false,
    "ExecuteTime": {
     "end_time": "2025-03-16T12:30:03.363923Z",
     "start_time": "2025-03-16T12:30:03.277374Z"
    }
   },
   "id": "b537fa4085f661ca"
  },
  {
   "cell_type": "code",
   "execution_count": 37,
   "outputs": [],
   "source": [
    "b0 = X[:, 0]\n",
    "b1 = X[:, 1]\n",
    "\n",
    "b2 = [x0 < 7 and x1 < 3.5 for x0, x1 in zip(b0, b1)]"
   ],
   "metadata": {
    "collapsed": false,
    "ExecuteTime": {
     "end_time": "2025-03-16T12:53:57.009506Z",
     "start_time": "2025-03-16T12:53:57.001575Z"
    }
   },
   "id": "2fa80ff63817d70b"
  },
  {
   "cell_type": "code",
   "execution_count": 38,
   "outputs": [
    {
     "data": {
      "text/plain": "115"
     },
     "execution_count": 38,
     "metadata": {},
     "output_type": "execute_result"
    }
   ],
   "source": [
    "np.sum(b2)"
   ],
   "metadata": {
    "collapsed": false,
    "ExecuteTime": {
     "end_time": "2025-03-16T12:53:58.141386Z",
     "start_time": "2025-03-16T12:53:58.138207Z"
    }
   },
   "id": "e1c67df269b427f5"
  },
  {
   "cell_type": "code",
   "execution_count": 20,
   "outputs": [
    {
     "data": {
      "text/plain": "array([ True,  True,  True,  True,  True,  True,  True,  True,  True,\n        True,  True,  True,  True,  True,  True,  True,  True,  True,\n        True,  True,  True,  True,  True,  True,  True,  True,  True,\n        True,  True,  True,  True,  True,  True,  True,  True,  True,\n        True,  True,  True,  True,  True,  True,  True,  True,  True,\n        True,  True,  True,  True,  True,  True,  True,  True,  True,\n        True,  True, False,  True,  True,  True,  True,  True,  True,\n        True,  True,  True,  True,  True,  True, False, False,  True,\n        True,  True,  True,  True,  True,  True,  True,  True,  True,\n        True,  True,  True,  True,  True,  True,  True,  True,  True,\n        True,  True,  True,  True,  True,  True,  True,  True,  True,\n        True,  True,  True,  True,  True,  True,  True,  True,  True,\n        True,  True,  True,  True,  True,  True,  True, False,  True,\n        True,  True,  True,  True,  True,  True,  True,  True,  True,\n        True,  True,  True,  True,  True, False,  True,  True,  True,\n        True,  True,  True,  True,  True,  True,  True,  True,  True,\n        True,  True,  True, False,  True])"
     },
     "execution_count": 20,
     "metadata": {},
     "output_type": "execute_result"
    }
   ],
   "source": [
    "X[:, 0] <= 7.5"
   ],
   "metadata": {
    "collapsed": false,
    "ExecuteTime": {
     "end_time": "2025-03-16T12:48:26.529410Z",
     "start_time": "2025-03-16T12:48:26.507430Z"
    }
   },
   "id": "8c37c8b7388d3e8a"
  },
  {
   "cell_type": "code",
   "execution_count": null,
   "outputs": [],
   "source": [],
   "metadata": {
    "collapsed": false
   },
   "id": "3f3967d8c4c69598"
  }
 ],
 "metadata": {
  "kernelspec": {
   "name": "data-env",
   "language": "python",
   "display_name": "data-env"
  },
  "language_info": {
   "codemirror_mode": {
    "name": "ipython",
    "version": 2
   },
   "file_extension": ".py",
   "mimetype": "text/x-python",
   "name": "python",
   "nbconvert_exporter": "python",
   "pygments_lexer": "ipython2",
   "version": "2.7.6"
  }
 },
 "nbformat": 4,
 "nbformat_minor": 5
}
